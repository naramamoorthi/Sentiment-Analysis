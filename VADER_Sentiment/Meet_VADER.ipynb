{
  "nbformat": 4,
  "nbformat_minor": 0,
  "metadata": {
    "colab": {
      "name": "Meet_VADER.ipynb",
      "version": "0.3.2",
      "provenance": [],
      "toc_visible": true,
      "include_colab_link": true
    },
    "kernelspec": {
      "name": "python3",
      "display_name": "Python 3"
    }
  },
  "cells": [
    {
      "cell_type": "markdown",
      "metadata": {
        "id": "view-in-github",
        "colab_type": "text"
      },
      "source": [
        "[View in Colaboratory](https://colab.research.google.com/github/naramamoorthi/Sentiment-Analysis/blob/master/VADER_Sentiment/Meet_VADER.ipynb)"
      ]
    },
    {
      "metadata": {
        "id": "gIeFnpfdLEtq",
        "colab_type": "text"
      },
      "cell_type": "markdown",
      "source": [
        "**VADER (Valence-Aware-Dictionary-and-sEntiment-Reasoner)** is a Python module that simplifies social media sentiment analysis. It has the ability to not only analyze sentiment in plain text but also emojis too.\n",
        "\n",
        "VADER GitHub Repo: https://github.com/cjhutto/vaderSentiment"
      ]
    },
    {
      "metadata": {
        "id": "Q84gzBLaFoZY",
        "colab_type": "code",
        "colab": {}
      },
      "cell_type": "code",
      "source": [
        "!pip install vadersentiment\n",
        "\n",
        "print(\"*** Welcome to the Dark Side of The Force ***\")\n",
        "\n",
        "from vaderSentiment.vaderSentiment import SentimentIntensityAnalyzer\n",
        "sentiment_analysis(text)\n",
        "​\n",
        "\n",
        "analyser = SentimentIntensityAnalyzer()\n",
        "\n",
        "def sentiment_analysis(sentence):\n",
        "    sentiment_score = analyser.polarity_scores(sentence)\n",
        "    print(\"{:-<40} {}\".format(sentence, str(sentiment_score)))\n",
        "\n",
        "text=input(\"Enter some text you want to analyze: \")\n",
        "sentiment_analysis(text)\n"
      ],
      "execution_count": 0,
      "outputs": []
    }
  ]
}